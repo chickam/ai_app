{
 "cells": [
  {
   "cell_type": "code",
   "execution_count": 4,
   "id": "836af1d6",
   "metadata": {},
   "outputs": [],
   "source": [
    "import pandas as pd\n",
    "from collections import Counter\n",
    "import string\n",
    "import jctconv\n",
    "import emoji\n",
    "import re"
   ]
  },
  {
   "cell_type": "code",
   "execution_count": 9,
   "metadata": {},
   "outputs": [
    {
     "output_type": "execute_result",
     "data": {
      "text/plain": [
       "                  date                                           item_url  \\\n",
       "0  2019/10/08 23:39:51  https://item.fril.jp/055f4080a2a0ae275db6ba7be...   \n",
       "1  2019/10/08 23:39:51  https://item.fril.jp/896a1d0197d05cf8431c136d9...   \n",
       "\n",
       "                               title  price             brand  \\\n",
       "0  Epiphone LTD Korina Explorer Bass  40000          Epiphone   \n",
       "1                      TVB-100 (SUN)  38000  Electric Bass(R)   \n",
       "\n",
       "            category  good  bad  normal ship_days  \\\n",
       "0  楽器 > ベース > エレキベース   109    0       0     1-2日後   \n",
       "1  楽器 > ベース > エレキベース     8    0       0     1-2日後   \n",
       "\n",
       "                                            comments last_log_date  \\\n",
       "0                                                NaN    2000-01-01   \n",
       "1  ['TOKYO GUITARS', '本モデルを含め、TOKYO GUITARS工房にて製造...    2019/08/31   \n",
       "\n",
       "   good_counts prefecture delivery_fee  \\\n",
       "0            0        岐阜県          着払い   \n",
       "1            0        東京都          送料込   \n",
       "\n",
       "                                          seller_url size  \\\n",
       "0  https://fril.jp/shop/42df208014145c438f96e01f5...   なし   \n",
       "1  https://fril.jp/shop/bb898547c8e0369f5f6621cce...   なし   \n",
       "\n",
       "                                         picture_url  \\\n",
       "0  https://img.fril.jp/img/259586636/l/734809353....   \n",
       "1  https://img.fril.jp/img/223532100/l/635334018....   \n",
       "\n",
       "                                         description  \\\n",
       "0    コリーナボディ ブラックピックガード ゴールドパーツの豪華なエクスプローラー コリーナ ...   \n",
       "1    Tokyo Guitars モデル名 TVB 100  SUN   Tokyo Cust...   \n",
       "\n",
       "                                        details_dict  \n",
       "0  {'カテゴリ': '楽器›ベース›エレキベース', 'サイズ': 'なし', 'ブランド':...  \n",
       "1  {'カテゴリ': '楽器›ベース›エレキベース', 'サイズ': 'なし', '商品の状態'...  "
      ],
      "text/html": "<div>\n<style scoped>\n    .dataframe tbody tr th:only-of-type {\n        vertical-align: middle;\n    }\n\n    .dataframe tbody tr th {\n        vertical-align: top;\n    }\n\n    .dataframe thead th {\n        text-align: right;\n    }\n</style>\n<table border=\"1\" class=\"dataframe\">\n  <thead>\n    <tr style=\"text-align: right;\">\n      <th></th>\n      <th>date</th>\n      <th>item_url</th>\n      <th>title</th>\n      <th>price</th>\n      <th>brand</th>\n      <th>category</th>\n      <th>good</th>\n      <th>bad</th>\n      <th>normal</th>\n      <th>ship_days</th>\n      <th>comments</th>\n      <th>last_log_date</th>\n      <th>good_counts</th>\n      <th>prefecture</th>\n      <th>delivery_fee</th>\n      <th>seller_url</th>\n      <th>size</th>\n      <th>picture_url</th>\n      <th>description</th>\n      <th>details_dict</th>\n    </tr>\n  </thead>\n  <tbody>\n    <tr>\n      <th>0</th>\n      <td>2019/10/08 23:39:51</td>\n      <td>https://item.fril.jp/055f4080a2a0ae275db6ba7be...</td>\n      <td>Epiphone LTD Korina Explorer Bass</td>\n      <td>40000</td>\n      <td>Epiphone</td>\n      <td>楽器 &gt; ベース &gt; エレキベース</td>\n      <td>109</td>\n      <td>0</td>\n      <td>0</td>\n      <td>1-2日後</td>\n      <td>NaN</td>\n      <td>2000-01-01</td>\n      <td>0</td>\n      <td>岐阜県</td>\n      <td>着払い</td>\n      <td>https://fril.jp/shop/42df208014145c438f96e01f5...</td>\n      <td>なし</td>\n      <td>https://img.fril.jp/img/259586636/l/734809353....</td>\n      <td>コリーナボディ ブラックピックガード ゴールドパーツの豪華なエクスプローラー コリーナ ...</td>\n      <td>{'カテゴリ': '楽器›ベース›エレキベース', 'サイズ': 'なし', 'ブランド':...</td>\n    </tr>\n    <tr>\n      <th>1</th>\n      <td>2019/10/08 23:39:51</td>\n      <td>https://item.fril.jp/896a1d0197d05cf8431c136d9...</td>\n      <td>TVB-100 (SUN)</td>\n      <td>38000</td>\n      <td>Electric Bass(R)</td>\n      <td>楽器 &gt; ベース &gt; エレキベース</td>\n      <td>8</td>\n      <td>0</td>\n      <td>0</td>\n      <td>1-2日後</td>\n      <td>['TOKYO GUITARS', '本モデルを含め、TOKYO GUITARS工房にて製造...</td>\n      <td>2019/08/31</td>\n      <td>0</td>\n      <td>東京都</td>\n      <td>送料込</td>\n      <td>https://fril.jp/shop/bb898547c8e0369f5f6621cce...</td>\n      <td>なし</td>\n      <td>https://img.fril.jp/img/223532100/l/635334018....</td>\n      <td>Tokyo Guitars モデル名 TVB 100  SUN   Tokyo Cust...</td>\n      <td>{'カテゴリ': '楽器›ベース›エレキベース', 'サイズ': 'なし', '商品の状態'...</td>\n    </tr>\n  </tbody>\n</table>\n</div>"
     },
     "metadata": {},
     "execution_count": 9
    }
   ],
   "source": [
    "df = pd.read_csv('all_rakuma.csv')\n",
    "df.head(2)"
   ]
  },
  {
   "cell_type": "code",
   "execution_count": 13,
   "metadata": {},
   "outputs": [],
   "source": [
    "ctg_df = df.category.value_counts().reset_index()"
   ]
  },
  {
   "cell_type": "code",
   "execution_count": 16,
   "metadata": {},
   "outputs": [],
   "source": [
    "over_100data = ctg_df[ctg_df.category > 1000]"
   ]
  },
  {
   "cell_type": "code",
   "execution_count": 17,
   "metadata": {},
   "outputs": [
    {
     "output_type": "execute_result",
     "data": {
      "text/plain": [
       "63006"
      ]
     },
     "metadata": {},
     "execution_count": 17
    }
   ],
   "source": [
    "over_100data.category.sum()"
   ]
  },
  {
   "cell_type": "code",
   "execution_count": 19,
   "metadata": {},
   "outputs": [],
   "source": [
    "data = df.merge(over_100data[['index']], left_on='category', right_on='index')"
   ]
  },
  {
   "cell_type": "code",
   "execution_count": 21,
   "metadata": {},
   "outputs": [
    {
     "output_type": "execute_result",
     "data": {
      "text/plain": [
       "22"
      ]
     },
     "metadata": {},
     "execution_count": 21
    }
   ],
   "source": [
    "data.category.nunique()"
   ]
  },
  {
   "cell_type": "code",
   "execution_count": 22,
   "metadata": {},
   "outputs": [
    {
     "output_type": "execute_result",
     "data": {
      "text/plain": [
       "0           テレカ 未使用品 仮面ライダー 生誕20周年 東映ビデオ販売 販促用非売品\n",
       "1           送料無料 新品 DVD Perfume WORLD TOUR 1st 初回\n",
       "2                          ☆ウルトラマン☆レーザーディスク ジャンク？\n",
       "3             MAISHA （マイシャ）Sadao Watanabe　渡辺貞夫★LD\n",
       "4        LD★PARKER'S MOOD（パーカーズ・ムード）LIVE AT BRAVA\n",
       "                           ...                   \n",
       "63001                                   64 マリオテニス\n",
       "63002    ☆非売品☆switch ポケットモンスター ポケモンカードバトル クリアファイル\n",
       "63003    【新品未開封】大乱闘スマッシュブラザーズ SPECIAL（クロスクリーナー付き）\n",
       "63004    【新品未開封】大乱闘スマッシュブラザーズ SPECIAL（クロスクリーナー付き）\n",
       "63005    【新品未開封】大乱闘スマッシュブラザーズ SPECIAL（クロスクリーナー付き）\n",
       "Name: title, Length: 63006, dtype: object"
      ]
     },
     "metadata": {},
     "execution_count": 22
    }
   ],
   "source": [
    "data.title"
   ]
  },
  {
   "cell_type": "code",
   "execution_count": 39,
   "metadata": {},
   "outputs": [],
   "source": [
    "emojis = ''.join(emoji.UNICODE_EMOJI.keys())"
   ]
  },
  {
   "cell_type": "code",
   "execution_count": 40,
   "metadata": {},
   "outputs": [],
   "source": [
    "puncs = string.punctuation + \"◆▼★②●☆■★【】『』「」、♪\""
   ]
  },
  {
   "cell_type": "code",
   "execution_count": 41,
   "metadata": {},
   "outputs": [],
   "source": [
    "def han2zen(txt):\n",
    "    txt = jctconv.h2z(txt, kana=True, digit=False, ascii=False)\n",
    "    return jctconv.z2h(txt, kana=False, digit=True, ascii=True)\n",
    "\n",
    "def remove_signs(txt):\n",
    "    rm_signs = emojis + puncs\n",
    "    for s in rm_signs:\n",
    "        txt = txt.replace(s, ' ')\n",
    "    return txt\n",
    "\n",
    "def clean_txt(txt):\n",
    "    txt = han2zen(txt)\n",
    "    txt = remove_signs(txt)\n",
    "    txt_list = txt.upper().split()\n",
    "    txt_list = [x for x in txt_list if len(x) > 1 and re.search(r'[亜-熙ぁ-んァ-ヶa-zA-Z]', x)]\n",
    "    return list(Counter(txt_list))"
   ]
  },
  {
   "cell_type": "code",
   "execution_count": 67,
   "metadata": {},
   "outputs": [],
   "source": [
    "data[\"clean_title\"] = data.title.apply(clean_txt)"
   ]
  },
  {
   "cell_type": "code",
   "execution_count": 68,
   "metadata": {},
   "outputs": [
    {
     "output_type": "execute_result",
     "data": {
      "text/plain": [
       "63001                                       [マリオテニス]\n",
       "63002      [非売品, CH, ポケットモンスター, ポケモンカードバトル, クリアファイル]\n",
       "63003    [新品未開封, 大乱闘スマッシュブラザーズ, SPECIAL, クロスクリーナー付き]\n",
       "63004    [新品未開封, 大乱闘スマッシュブラザーズ, SPECIAL, クロスクリーナー付き]\n",
       "63005    [新品未開封, 大乱闘スマッシュブラザーズ, SPECIAL, クロスクリーナー付き]\n",
       "Name: title, dtype: object"
      ]
     },
     "metadata": {},
     "execution_count": 68
    }
   ],
   "source": [
    "data.tail().title.apply(clean_txt)"
   ]
  },
  {
   "cell_type": "code",
   "execution_count": 69,
   "metadata": {},
   "outputs": [],
   "source": [
    "from sklearn.pipeline import Pipeline\n",
    "from sklearn.metrics import classification_report\n",
    "from sklearn.model_selection import train_test_split\n",
    "\n",
    "from sklearn.feature_extraction.text import CountVectorizer, TfidfTransformer\n",
    "\n",
    "from sklearn.ensemble import RandomForestClassifier\n",
    "from sklearn.naive_bayes import MultinomialNB\n"
   ]
  },
  {
   "cell_type": "code",
   "execution_count": 70,
   "metadata": {},
   "outputs": [],
   "source": [
    "category2idx = {c: idx for idx, c in enumerate(data.category.unique())}\n",
    "idx2category = {idx: c for idx, c in enumerate(data.category.unique())}"
   ]
  },
  {
   "cell_type": "code",
   "execution_count": 71,
   "metadata": {},
   "outputs": [],
   "source": [
    "X = data.title\n",
    "y = data.category.apply(lambda x: category2idx[x])"
   ]
  },
  {
   "cell_type": "code",
   "execution_count": 72,
   "metadata": {},
   "outputs": [],
   "source": [
    "X_train, X_test, y_train, y_test = train_test_split(X, y, test_size=0.33, random_state=42)"
   ]
  },
  {
   "cell_type": "code",
   "execution_count": 77,
   "metadata": {},
   "outputs": [],
   "source": [
    "pipeline = Pipeline([\n",
    "    ('bow', CountVectorizer()),\n",
    "    ('tfidf', TfidfTransformer()),\n",
    "    ('classifier', RandomForestClassifier()),\n",
    "])"
   ]
  },
  {
   "cell_type": "code",
   "execution_count": 78,
   "metadata": {},
   "outputs": [
    {
     "output_type": "execute_result",
     "data": {
      "text/plain": [
       "Pipeline(steps=[('bow', CountVectorizer()), ('tfidf', TfidfTransformer()),\n",
       "                ('classifier', RandomForestClassifier())])"
      ]
     },
     "metadata": {},
     "execution_count": 78
    }
   ],
   "source": [
    "pipeline.fit(X_train, y_train)\n"
   ]
  },
  {
   "cell_type": "code",
   "execution_count": 79,
   "metadata": {},
   "outputs": [],
   "source": [
    "pred = pipeline.predict(X_test)"
   ]
  },
  {
   "cell_type": "code",
   "execution_count": 80,
   "metadata": {},
   "outputs": [
    {
     "output_type": "stream",
     "name": "stdout",
     "text": [
      "              precision    recall  f1-score   support\n\n           0       0.87      0.64      0.74       406\n           1       0.90      0.93      0.91      1189\n           2       0.87      0.76      0.81       422\n           3       0.88      0.82      0.85       699\n           4       0.62      0.89      0.73      3577\n           5       0.72      0.38      0.49       395\n           6       0.89      0.81      0.85      2138\n           7       0.85      0.80      0.83      1033\n           8       0.94      0.87      0.90       460\n           9       0.96      0.82      0.88       379\n          10       0.97      0.84      0.90       871\n          11       0.80      0.57      0.67       481\n          12       0.87      0.74      0.80       430\n          13       0.93      0.78      0.85       399\n          14       0.99      0.95      0.97       535\n          15       0.95      0.90      0.92       830\n          16       0.99      0.79      0.88       396\n          17       0.99      0.97      0.98      3673\n          18       1.00      0.97      0.98       964\n          19       0.94      0.86      0.90       694\n          20       0.97      0.78      0.86       346\n          21       0.90      0.75      0.82       475\n\n    accuracy                           0.86     20792\n   macro avg       0.90      0.80      0.84     20792\nweighted avg       0.87      0.86      0.86     20792\n\n"
     ]
    }
   ],
   "source": [
    "print(classification_report(y_test, pred))"
   ]
  },
  {
   "cell_type": "code",
   "execution_count": 90,
   "metadata": {},
   "outputs": [
    {
     "output_type": "execute_result",
     "data": {
      "text/plain": [
       "'メンズ > 靴/シューズ > スニーカー'"
      ]
     },
     "metadata": {},
     "execution_count": 90
    }
   ],
   "source": [
    "target = ['AIR MORE UPTEMPO ‘96 921948-102 26cm']\n",
    "prediction = pipeline.predict(target)\n",
    "idx2category[prediction[0]]"
   ]
  },
  {
   "cell_type": "code",
   "execution_count": 91,
   "metadata": {},
   "outputs": [],
   "source": [
    "import pickle"
   ]
  },
  {
   "cell_type": "code",
   "execution_count": 92,
   "metadata": {},
   "outputs": [],
   "source": [
    "with open('rdmf.pickle', mode='wb') as f:\n",
    "    pickle.dump(pipeline, f)"
   ]
  },
  {
   "cell_type": "code",
   "execution_count": 93,
   "metadata": {},
   "outputs": [],
   "source": [
    "with open('rdmf.pickle', mode='rb') as ff:\n",
    "    model = pickle.load(ff)"
   ]
  },
  {
   "cell_type": "code",
   "execution_count": 94,
   "metadata": {},
   "outputs": [
    {
     "output_type": "execute_result",
     "data": {
      "text/plain": [
       "array([17])"
      ]
     },
     "metadata": {},
     "execution_count": 94
    }
   ],
   "source": [
    "model.predict(target)"
   ]
  },
  {
   "cell_type": "code",
   "execution_count": 96,
   "metadata": {},
   "outputs": [],
   "source": [
    "pd.DataFrame([{'k': k, 'v': v} for k, v in  idx2category.items()]).to_csv('idx2category.csv', index=False)"
   ]
  },
  {
   "cell_type": "code",
   "execution_count": 97,
   "metadata": {},
   "outputs": [
    {
     "output_type": "stream",
     "name": "stdout",
     "text": [
      "all_rakuma.csv    rakuma_NLP.ipynb  test.py\nidx2category.csv  rdmf.pickle       \u001b[34mvenv\u001b[m\u001b[m/\n"
     ]
    }
   ],
   "source": [
    "ls"
   ]
  },
  {
   "cell_type": "code",
   "execution_count": null,
   "metadata": {},
   "outputs": [],
   "source": []
  }
 ],
 "metadata": {
  "kernelspec": {
   "display_name": "projectname",
   "language": "python",
   "name": "projectname"
  },
  "language_info": {
   "codemirror_mode": {
    "name": "ipython",
    "version": 3
   },
   "file_extension": ".py",
   "mimetype": "text/x-python",
   "name": "python",
   "nbconvert_exporter": "python",
   "pygments_lexer": "ipython3",
   "version": "3.9.0"
  }
 },
 "nbformat": 4,
 "nbformat_minor": 5
}